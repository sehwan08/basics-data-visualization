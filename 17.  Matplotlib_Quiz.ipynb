{
 "cells": [
  {
   "cell_type": "markdown",
   "id": "357b9bd7",
   "metadata": {},
   "source": [
    "### 17. Quiz"
   ]
  },
  {
   "cell_type": "code",
   "execution_count": 2,
   "id": "92683ed0",
   "metadata": {},
   "outputs": [],
   "source": [
    "import matplotlib.pyplot as plt\n",
    "import numpy as np\n",
    "import pandas as pd\n",
    "# 한글 폰트 설정\n",
    "import matplotlib\n",
    "matplotlib.rcParams['font.family'] = 'Malgun Gothic' # 윈도우 전용\n",
    "matplotlib.rcParams['font.size'] = 15 #폰트 크기\n",
    "matplotlib.rcParams['axes.unicode_minus'] = False"
   ]
  },
  {
   "cell_type": "code",
   "execution_count": 3,
   "id": "024404e5",
   "metadata": {},
   "outputs": [
    {
     "data": {
      "text/html": [
       "<div>\n",
       "<style scoped>\n",
       "    .dataframe tbody tr th:only-of-type {\n",
       "        vertical-align: middle;\n",
       "    }\n",
       "\n",
       "    .dataframe tbody tr th {\n",
       "        vertical-align: top;\n",
       "    }\n",
       "\n",
       "    .dataframe thead th {\n",
       "        text-align: right;\n",
       "    }\n",
       "</style>\n",
       "<table border=\"1\" class=\"dataframe\">\n",
       "  <thead>\n",
       "    <tr style=\"text-align: right;\">\n",
       "      <th></th>\n",
       "      <th>영화</th>\n",
       "      <th>개봉 연도</th>\n",
       "      <th>관객 수</th>\n",
       "      <th>평점</th>\n",
       "    </tr>\n",
       "  </thead>\n",
       "  <tbody>\n",
       "    <tr>\n",
       "      <th>0</th>\n",
       "      <td>명량</td>\n",
       "      <td>2014</td>\n",
       "      <td>1761</td>\n",
       "      <td>8.88</td>\n",
       "    </tr>\n",
       "    <tr>\n",
       "      <th>1</th>\n",
       "      <td>극한직업</td>\n",
       "      <td>2019</td>\n",
       "      <td>1626</td>\n",
       "      <td>9.20</td>\n",
       "    </tr>\n",
       "    <tr>\n",
       "      <th>2</th>\n",
       "      <td>신과함께-죄와 벌</td>\n",
       "      <td>2017</td>\n",
       "      <td>1441</td>\n",
       "      <td>8.73</td>\n",
       "    </tr>\n",
       "    <tr>\n",
       "      <th>3</th>\n",
       "      <td>국제시장</td>\n",
       "      <td>2014</td>\n",
       "      <td>1426</td>\n",
       "      <td>9.16</td>\n",
       "    </tr>\n",
       "    <tr>\n",
       "      <th>4</th>\n",
       "      <td>괴물</td>\n",
       "      <td>2006</td>\n",
       "      <td>1301</td>\n",
       "      <td>8.62</td>\n",
       "    </tr>\n",
       "    <tr>\n",
       "      <th>5</th>\n",
       "      <td>도둑들</td>\n",
       "      <td>2012</td>\n",
       "      <td>1298</td>\n",
       "      <td>7.64</td>\n",
       "    </tr>\n",
       "    <tr>\n",
       "      <th>6</th>\n",
       "      <td>7번방의 선물</td>\n",
       "      <td>2013</td>\n",
       "      <td>1281</td>\n",
       "      <td>8.83</td>\n",
       "    </tr>\n",
       "    <tr>\n",
       "      <th>7</th>\n",
       "      <td>암살</td>\n",
       "      <td>2015</td>\n",
       "      <td>1270</td>\n",
       "      <td>9.10</td>\n",
       "    </tr>\n",
       "  </tbody>\n",
       "</table>\n",
       "</div>"
      ],
      "text/plain": [
       "          영화  개봉 연도  관객 수    평점\n",
       "0         명량   2014  1761  8.88\n",
       "1       극한직업   2019  1626  9.20\n",
       "2  신과함께-죄와 벌   2017  1441  8.73\n",
       "3       국제시장   2014  1426  9.16\n",
       "4         괴물   2006  1301  8.62\n",
       "5        도둑들   2012  1298  7.64\n",
       "6    7번방의 선물   2013  1281  8.83\n",
       "7         암살   2015  1270  9.10"
      ]
     },
     "execution_count": 3,
     "metadata": {},
     "output_type": "execute_result"
    }
   ],
   "source": [
    "data = {\n",
    "    '영화' : ['명량', '극한직업', '신과함께-죄와 벌', '국제시장', '괴물', '도둑들', '7번방의 선물', '암살'],\n",
    "    '개봉 연도' : [2014, 2019, 2017, 2014, 2006, 2012, 2013, 2015],\n",
    "    '관객 수' : [1761, 1626, 1441, 1426, 1301, 1298, 1281, 1270], # (단위 : 만 명)\n",
    "    '평점' : [8.88, 9.20, 8.73, 9.16, 8.62, 7.64, 8.83, 9.10]\n",
    "}\n",
    "df = pd.DataFrame(data)\n",
    "df"
   ]
  },
  {
   "cell_type": "code",
   "execution_count": 8,
   "id": "97cccf32",
   "metadata": {},
   "outputs": [
    {
     "data": {
      "text/plain": [
       "<BarContainer object of 8 artists>"
      ]
     },
     "execution_count": 8,
     "metadata": {},
     "output_type": "execute_result"
    },
    {
     "data": {
      "image/png": "[encoded data removed]",
      "text/plain": [
       "<Figure size 432x288 with 1 Axes>"
      ]
     },
     "metadata": {
      "needs_background": "light"
     },
     "output_type": "display_data"
    }
   ],
   "source": [
    "labels = df['영화']\n",
    "values = df['평점']\n",
    "plt.bar(labels, values)\n"
   ]
  },
  {
   "cell_type": "code",
   "execution_count": 9,
   "id": "1e6938ac",
   "metadata": {},
   "outputs": [
    {
     "data": {
      "text/plain": [
       "Text(0, 0.5, '평점')"
      ]
     },
     "execution_count": 9,
     "metadata": {},
     "output_type": "execute_result"
    },
    {
     "data": {
      "image/png": "[encoded data removed]",
      "text/plain": [
       "<Figure size 432x288 with 1 Axes>"
      ]
     },
     "metadata": {
      "needs_background": "light"
     },
     "output_type": "display_data"
    }
   ],
   "source": [
    "labels = df['영화']\n",
    "values = df['평점']\n",
    "plt.bar(labels, values)\n",
    "plt.title('국내 Top 8 영화 평점 정보')\n",
    "plt.xlabel('영화')\n",
    "plt.xticks(rotation=90)\n",
    "plt.ylabel('평점')"
   ]
  },
  {
   "cell_type": "code",
   "execution_count": 23,
   "id": "e7b963ff",
   "metadata": {},
   "outputs": [
    {
     "data": {
      "text/html": [
       "<div>\n",
       "<style scoped>\n",
       "    .dataframe tbody tr th:only-of-type {\n",
       "        vertical-align: middle;\n",
       "    }\n",
       "\n",
       "    .dataframe tbody tr th {\n",
       "        vertical-align: top;\n",
       "    }\n",
       "\n",
       "    .dataframe thead th {\n",
       "        text-align: right;\n",
       "    }\n",
       "</style>\n",
       "<table border=\"1\" class=\"dataframe\">\n",
       "  <thead>\n",
       "    <tr style=\"text-align: right;\">\n",
       "      <th></th>\n",
       "      <th>개봉 연도</th>\n",
       "      <th>관객 수</th>\n",
       "      <th>평점</th>\n",
       "    </tr>\n",
       "  </thead>\n",
       "  <tbody>\n",
       "    <tr>\n",
       "      <th>0</th>\n",
       "      <td>2006</td>\n",
       "      <td>1301.0</td>\n",
       "      <td>8.62</td>\n",
       "    </tr>\n",
       "    <tr>\n",
       "      <th>1</th>\n",
       "      <td>2012</td>\n",
       "      <td>1298.0</td>\n",
       "      <td>7.64</td>\n",
       "    </tr>\n",
       "    <tr>\n",
       "      <th>2</th>\n",
       "      <td>2013</td>\n",
       "      <td>1281.0</td>\n",
       "      <td>8.83</td>\n",
       "    </tr>\n",
       "    <tr>\n",
       "      <th>3</th>\n",
       "      <td>2014</td>\n",
       "      <td>1593.5</td>\n",
       "      <td>9.02</td>\n",
       "    </tr>\n",
       "    <tr>\n",
       "      <th>4</th>\n",
       "      <td>2015</td>\n",
       "      <td>1270.0</td>\n",
       "      <td>9.10</td>\n",
       "    </tr>\n",
       "    <tr>\n",
       "      <th>5</th>\n",
       "      <td>2017</td>\n",
       "      <td>1441.0</td>\n",
       "      <td>8.73</td>\n",
       "    </tr>\n",
       "    <tr>\n",
       "      <th>6</th>\n",
       "      <td>2019</td>\n",
       "      <td>1626.0</td>\n",
       "      <td>9.20</td>\n",
       "    </tr>\n",
       "  </tbody>\n",
       "</table>\n",
       "</div>"
      ],
      "text/plain": [
       "   개봉 연도    관객 수    평점\n",
       "0   2006  1301.0  8.62\n",
       "1   2012  1298.0  7.64\n",
       "2   2013  1281.0  8.83\n",
       "3   2014  1593.5  9.02\n",
       "4   2015  1270.0  9.10\n",
       "5   2017  1441.0  8.73\n",
       "6   2019  1626.0  9.20"
      ]
     },
     "execution_count": 23,
     "metadata": {},
     "output_type": "execute_result"
    }
   ],
   "source": [
    "# 개봉 연도별 평점 구하기\n",
    "df_group = df.groupby('개봉 연도').mean() # 평균을 구한 후 \n",
    "df_group.reset_index(inplace = True) # 개봉연도의 모든 행을 일치 시킴\n",
    "df_group"
   ]
  },
  {
   "cell_type": "code",
   "execution_count": 41,
   "id": "1b76ff11",
   "metadata": {},
   "outputs": [
    {
     "data": {
      "text/plain": [
       "(7.0, 10.0)"
      ]
     },
     "execution_count": 41,
     "metadata": {},
     "output_type": "execute_result"
    },
    {
     "data": {
      "image/png": "[encoded data removed]",
      "text/plain": [
       "<Figure size 432x288 with 1 Axes>"
      ]
     },
     "metadata": {
      "needs_background": "light"
     },
     "output_type": "display_data"
    }
   ],
   "source": [
    "plt.plot(df_group['개봉 연도'], df_group['평점'], marker='o');\n",
    "plt.yticks([7.0,7.5,8.0,8.5,9.0,9.5,10])\n",
    "plt.ylim(7, 10)"
   ]
  },
  {
   "cell_type": "code",
   "execution_count": 44,
   "id": "81c7a4bf",
   "metadata": {},
   "outputs": [
    {
     "data": {
      "text/plain": [
       "<matplotlib.legend.Legend at 0x2333df63640>"
      ]
     },
     "execution_count": 44,
     "metadata": {},
     "output_type": "execute_result"
    },
    {
     "data": {
      "image/png": "[encoded data removed]",
      "text/plain": [
       "<Figure size 432x288 with 1 Axes>"
      ]
     },
     "metadata": {},
     "output_type": "display_data"
    }
   ],
   "source": [
    "filter = df['평점'] >= 9.0 # 일단 두개로 나눔\n",
    "values = [len(df[filter]), len(df[~filter])] #두개로 나뉜 데이터의 길이를 추출\n",
    "labels = ['9점 이상', '9점 미만']\n",
    "plt.pie(values, labels=labels, autopct='%.1f%%')\n",
    "plt.legend(loc=(1,0.3))"
   ]
  },
  {
   "cell_type": "code",
   "execution_count": null,
   "id": "df75908b",
   "metadata": {},
   "outputs": [],
   "source": []
  }
 ],
 "metadata": {
  "kernelspec": {
   "display_name": "Python 3 (ipykernel)",
   "language": "python",
   "name": "python3"
  },
  "language_info": {
   "codemirror_mode": {
    "name": "ipython",
    "version": 3
   },
   "file_extension": ".py",
   "mimetype": "text/x-python",
   "name": "python",
   "nbconvert_exporter": "python",
   "pygments_lexer": "ipython3",
   "version": "3.10.0"
  }
 },
 "nbformat": 4,
 "nbformat_minor": 5
}
